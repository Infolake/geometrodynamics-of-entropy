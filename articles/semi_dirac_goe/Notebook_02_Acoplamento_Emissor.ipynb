
{
 "cells": [
  {
   "cell_type": "markdown",
   "metadata": {},
   "source": [
    "# Notebook 02: Acoplamento do Emissor Quântico aos Pseudomodos\n",
    "Este notebook simula o acoplamento de um emissor quântico a um conjunto discreto de pseudomodos gerados a partir de uma função de Green modificada pela Geometrodinâmica da Entropia (GoE)."
   ]
  },
  {
   "cell_type": "code",
   "execution_count": null,
   "metadata": {},
   "outputs": [],
   "source": [
    "import numpy as np\n",
    "import matplotlib.pyplot as plt\n",
    "\n",
    "# Parâmetros dos pseudomodos\n",
    "num_pseudomodos = 10\n",
    "frequencias_complexas = np.linspace(1.0, 3.0, num_pseudomodos) + 1j * np.linspace(0.01, 0.05, num_pseudomodos)\n",
    "acoplamentos = np.random.uniform(0.05, 0.2, size=num_pseudomodos)\n",
    "\n",
    "# Hamiltoniano do sistema efetivo (discreto)\n",
    "H_pseudomodos = np.diag(frequencias_complexas)\n",
    "\n",
    "# Plotagem do espectro de acoplamento\n",
    "plt.figure(figsize=(8, 5))\n",
    "plt.stem(frequencias_complexas.real, acoplamentos, basefmt=" ", use_line_collection=True)\n",
    "plt.xlabel('Frequência Real do Pseudomodo (ω̃)')\n",
    "plt.ylabel('Força de Acoplamento (gₙ)')\n",
    "plt.title('Acoplamento do Emissor aos Pseudomodos')\n",
    "plt.grid(True)\n",
    "plt.tight_layout()\n",
    "plt.show()"
   ]
  }
 ],
 "metadata": {
  "kernelspec": {
   "display_name": "Python 3",
   "language": "python",
   "name": "python3"
  },
  "language_info": {
   "name": "python",
   "version": "3.8"
  }
 },
 "nbformat": 4,
 "nbformat_minor": 2
}
