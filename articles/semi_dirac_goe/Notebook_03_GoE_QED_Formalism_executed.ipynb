{
 "cells": [
  {
   "cell_type": "markdown",
   "id": "47af0627",
   "metadata": {},
   "source": [
    "# 📘 Notebook 03 – GoE QED Formalism\n",
    "This notebook explores the Quantum Electrodynamics (QED) reformulation of the **Geometrodynamics of Entropy (GoE)**, focusing on the pseudomode expansion and photon wavefunction formalism in structured photonic environments.\n"
   ]
  },
  {
   "cell_type": "markdown",
   "id": "ecd1123e",
   "metadata": {},
   "source": [
    "## 1. Background\n",
    "We aim to reformulate the interaction of quantum emitters and photonic environments in GoE using the exact QED treatment by Yuen & Demetriadou (2024). This involves mapping the continuous spectrum of photon modes to a discrete set of **pseudomodes** based on the complex poles of the Green's tensor.\n"
   ]
  },
  {
   "cell_type": "code",
   "execution_count": 1,
   "id": "9866a9c8",
   "metadata": {
    "execution": {
     "iopub.execute_input": "2025-07-08T22:32:44.542716Z",
     "iopub.status.busy": "2025-07-08T22:32:44.542049Z",
     "iopub.status.idle": "2025-07-08T22:32:44.749962Z",
     "shell.execute_reply": "2025-07-08T22:32:44.748623Z"
    }
   },
   "outputs": [],
   "source": [
    "# Define a Green's function operator in a simplified model\n",
    "import numpy as np\n",
    "def green_tensor(r, r_prime, omega, epsilon=1.0):\n",
    "    delta = np.linalg.norm(r - r_prime)\n",
    "    return np.exp(1j * omega * delta / 3e8) / (4 * np.pi * delta * epsilon + 1e-9)\n"
   ]
  },
  {
   "cell_type": "code",
   "execution_count": 2,
   "id": "5fdd9058",
   "metadata": {
    "execution": {
     "iopub.execute_input": "2025-07-08T22:32:44.756382Z",
     "iopub.status.busy": "2025-07-08T22:32:44.755677Z",
     "iopub.status.idle": "2025-07-08T22:32:44.764226Z",
     "shell.execute_reply": "2025-07-08T22:32:44.763171Z"
    }
   },
   "outputs": [
    {
     "name": "stdout",
     "output_type": "stream",
     "text": [
      "Pseudomodes (rad/s): [(2300000000000000+100000000000000j), (3500000000000000+200000000000000j), (4100000000000000+300000000000000j)]\n"
     ]
    }
   ],
   "source": [
    "# Simulated pseudomodes (complex frequencies)\n",
    "pseudomodes = [\n",
    "    2.3e15 + 1j*0.1e15,\n",
    "    3.5e15 + 1j*0.2e15,\n",
    "    4.1e15 + 1j*0.3e15,\n",
    "]\n",
    "print(\"Pseudomodes (rad/s):\", pseudomodes)"
   ]
  },
  {
   "cell_type": "markdown",
   "id": "cc62bbcd",
   "metadata": {},
   "source": [
    "## 2. Discretized Hamiltonian\n",
    "The total Hamiltonian becomes a sum over discrete pseudomodes:\n",
    "\n",
    "$$ H = \\sum_n \\hbar \\tilde{\\omega}_n \\left(b_n^\\dagger b_n + \\frac{1}{2}\\right) + \\sum_n g_n \\left(\\sigma_+ b_n + \\sigma_- b_n^\\dagger\\right) $$"
   ]
  },
  {
   "cell_type": "code",
   "execution_count": 3,
   "id": "07898aee",
   "metadata": {
    "execution": {
     "iopub.execute_input": "2025-07-08T22:32:44.770120Z",
     "iopub.status.busy": "2025-07-08T22:32:44.769063Z",
     "iopub.status.idle": "2025-07-08T22:32:44.778641Z",
     "shell.execute_reply": "2025-07-08T22:32:44.777866Z"
    }
   },
   "outputs": [
    {
     "name": "stdout",
     "output_type": "stream",
     "text": [
      "Photon wavefunction at r=[1.e-06 1.e-06 1.e-06], t=1e-15: (-0.563762393881363+0.11721026752621982j)\n"
     ]
    }
   ],
   "source": [
    "# Construct a simple photon wavefunction from pseudomodes\n",
    "def photon_wavefunction(r, t, c_n, v_n):\n",
    "    return sum(c_n[i] * v_n[i](r) * np.exp(-1j * pseudomodes[i] * t) for i in range(len(c_n)))\n",
    "\n",
    "# Define placeholder spatial modes\n",
    "def v_0(r): return np.exp(-np.linalg.norm(r)**2 / 1e-12)\n",
    "def v_1(r): return np.sin(np.linalg.norm(r)/1e-6)\n",
    "def v_2(r): return np.cos(np.linalg.norm(r)/1e-6)\n",
    "\n",
    "v_n = [v_0, v_1, v_2]\n",
    "c_n = [1.0, 0.5, 0.3]\n",
    "r = np.array([1e-6, 1e-6, 1e-6])\n",
    "t = 1e-15\n",
    "\n",
    "psi = photon_wavefunction(r, t, c_n, v_n)\n",
    "print(f\"Photon wavefunction at r={r}, t={t}: {psi}\")"
   ]
  },
  {
   "cell_type": "markdown",
   "id": "c16b64e8",
   "metadata": {},
   "source": [
    "## 3. Conclusion\n",
    "This notebook provides a foundation for GoE's extension into quantum optics, showing how to use pseudomodes and Green's function techniques to model exact light-matter interactions."
   ]
  }
 ],
 "metadata": {
  "language_info": {
   "codemirror_mode": {
    "name": "ipython",
    "version": 3
   },
   "file_extension": ".py",
   "mimetype": "text/x-python",
   "name": "python",
   "nbconvert_exporter": "python",
   "pygments_lexer": "ipython3",
   "version": "3.11.8"
  }
 },
 "nbformat": 4,
 "nbformat_minor": 5
}
