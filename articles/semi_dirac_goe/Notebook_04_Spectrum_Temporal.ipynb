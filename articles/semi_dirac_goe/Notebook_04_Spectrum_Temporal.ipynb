# 🌌 Notebook 04 - Análise Espectral Temporal da Emissão

Este notebook realiza a análise espectral temporal da emissão de fótons em ambientes com estrutura pseudomodal, conforme o formalismo GoE reinterpretado via QED.

## 📦 Importações

```python
import numpy as np
import matplotlib.pyplot as plt
from scipy.fft import fft, fftfreq
```

## 📈 Parâmetros e Sinal Temporal

```python
# Sinal de emissão simulado (exponencial amortecido com oscilação)
t = np.linspace(0, 50, 1000)
signal = np.exp(-0.1*t) * np.cos(2*np.pi*0.3*t)

plt.plot(t, signal)
plt.title("Sinal Temporal de Emissão")
plt.xlabel("Tempo")
plt.ylabel("Amplitude")
plt.grid(True)
plt.show()
```

## 🔍 Transformada de Fourier

```python
# Transformada para o domínio da frequência
freqs = fftfreq(len(t), t[1]-t[0])
spectrum = np.abs(fft(signal))

plt.plot(freqs[:len(freqs)//2], spectrum[:len(freqs)//2])
plt.title("Espectro de Frequência (domínio positivo)")
plt.xlabel("Frequência")
plt.ylabel("|Amplitude|")
plt.grid(True)
plt.show()
```

## 🧠 Conclusão

Este espectro revela os modos dominantes de emissão e fornece uma base para modelagem refinada da resposta espectral de ambientes quânticos fotônicos na abordagem GoE.
