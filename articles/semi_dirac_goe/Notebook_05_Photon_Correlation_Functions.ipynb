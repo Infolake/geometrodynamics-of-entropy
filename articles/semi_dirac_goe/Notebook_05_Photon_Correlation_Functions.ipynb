# ✨ Notebook 05 - Funções de Correlação de Fótons

Este notebook implementa a função de segunda ordem g²(τ) para investigar a estatística de emissão dos fótons.

## 📦 Importações

```python
import numpy as np
import matplotlib.pyplot as plt
```

## 📈 Definição de g²(τ)

```python
# Definindo função de correlação g² para uma emissão antibunching idealizada
tau = np.linspace(-10, 10, 1000)
g2 = 1 - np.exp(-np.abs(tau)/2)

plt.plot(tau, g2)
plt.title("Função de Correlação de Segunda Ordem g²(τ)")
plt.xlabel("τ (atraso temporal)")
plt.ylabel("g²(τ)")
plt.grid(True)
plt.show()
```

## 🧠 Interpretação

Valores g²(0) < 1 indicam emissão quântica com antibunching — característica central de emissores de fótons únicos.
